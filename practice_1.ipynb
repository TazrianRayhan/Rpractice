{
  "nbformat": 4,
  "nbformat_minor": 0,
  "metadata": {
    "colab": {
      "provenance": []
    },
    "kernelspec": {
      "name": "ir",
      "display_name": "R"
    },
    "language_info": {
      "name": "R"
    }
  },
  "cells": [
    {
      "cell_type": "code",
      "source": [
        "#This is a comment in R\n",
        "x <- 10\n",
        "message <- \"Hello, World!\"\n",
        "\n",
        "print(x)\n",
        "print(message)\n",
        "\n",
        "# Addition\n",
        "sum <- 3 + 5\n",
        "print(sum) # Outputs: 8\n",
        "# Multiplication\n",
        "product <- 7 * 3\n",
        "print(product) # Outputs: 21\n",
        "# Division\n",
        "quotient <- 15 / 3\n",
        "print(quotient) # Outputs: 5\n",
        "# Exponentiation\n",
        "power <- 2^3\n",
        "print(power) # Outputs: 8\n",
        "# Modulus\n",
        "remainder <- 10 %% 3\n",
        "print(remainder) # Outputs: 1\n",
        "\n",
        "\n",
        "employee_data <- data.frame(\n",
        "ID = c(1, 2, 3),\n",
        "Name = c(\"John\", \"Maria\", \"Charlie\"),\n",
        "Age = c(28, 34, 25)\n",
        ")\n",
        "\n",
        "#displaying the dataframe\n",
        "print(\"Employee Data Frame:\")\n",
        "print(employee_data)\n",
        "\n",
        "install.packages(\"ggplot2\")\n",
        "#In R, libraries (also known as packages) are collections of R functions, data, and compiled code that have been developed by the community\n",
        "\n",
        "#This command needs to be run each time you start a new R session and want to use the package\n",
        "library(ggplot2)"
      ],
      "metadata": {
        "id": "GG3c8z47bR1i",
        "outputId": "7b4fdb34-61d0-4fcb-b996-0ce874fede55",
        "colab": {
          "base_uri": "https://localhost:8080/"
        }
      },
      "execution_count": 1,
      "outputs": [
        {
          "output_type": "stream",
          "name": "stdout",
          "text": [
            "[1] 10\n",
            "[1] \"Hello, World!\"\n",
            "[1] 8\n",
            "[1] 21\n",
            "[1] 5\n",
            "[1] 8\n",
            "[1] 1\n",
            "[1] \"Employee Data Frame:\"\n",
            "  ID    Name Age\n",
            "1  1    John  28\n",
            "2  2   Maria  34\n",
            "3  3 Charlie  25\n"
          ]
        },
        {
          "output_type": "stream",
          "name": "stderr",
          "text": [
            "Installing package into ‘/usr/local/lib/R/site-library’\n",
            "(as ‘lib’ is unspecified)\n",
            "\n"
          ]
        }
      ]
    },
    {
      "cell_type": "markdown",
      "source": [
        "# **SECTION A**"
      ],
      "metadata": {
        "id": "AC0cV0kzvYVT"
      }
    },
    {
      "cell_type": "markdown",
      "source": [
        "SECTION A Assigning Variables in R\n",
        "\n",
        "\n",
        "1.    Create a variable named product_price and assign it the value of 99. Assign another variable named quantity with the value 5. Display both variables.\n",
        "\n",
        "2.    Assign the string \"Data Science\" to a variable named course_name. Display the variable.\n",
        "\n",
        "3.    Create a variable x with value 20.5, and a variable y with value 30.5. Swap their values without using a temporary variable.\n",
        "\n",
        "4.    Create a variable is_active and assign it a boolean value TRUE. Display the variable.\n",
        "\n",
        "5.    Assign the numbers 1 through 5 to a variable named numbers using the “:” operator. Display the variable.\n",
        "\n"
      ],
      "metadata": {
        "id": "TqqcRt__Y7zl"
      }
    },
    {
      "cell_type": "code",
      "execution_count": null,
      "metadata": {
        "colab": {
          "base_uri": "https://localhost:8080/"
        },
        "id": "QO2TrzvunWyO",
        "outputId": "5f3f6782-8fa1-4108-f0db-40bdc10fc31f"
      },
      "outputs": [
        {
          "output_type": "stream",
          "name": "stdout",
          "text": [
            "[1] 99\n",
            "[1] 5\n"
          ]
        }
      ],
      "source": [
        "product_price <- 99\n",
        "quantity <- 5\n",
        "print(product_price)\n",
        "print(quantity)"
      ]
    },
    {
      "cell_type": "code",
      "source": [
        "course_name <- \"Data Science\"\n",
        "print(course_name)\n"
      ],
      "metadata": {
        "colab": {
          "base_uri": "https://localhost:8080/"
        },
        "id": "9DRMqiy2pScX",
        "outputId": "d88c156f-e7a0-45c8-d628-67a1c8f8cd94"
      },
      "execution_count": null,
      "outputs": [
        {
          "output_type": "stream",
          "name": "stdout",
          "text": [
            "[1] \"Data Science\"\n"
          ]
        }
      ]
    },
    {
      "cell_type": "code",
      "source": [
        "x <- 20.5\n",
        "y <- 30.5\n",
        "x <- x + y\n",
        "y <- x - y\n",
        "x <- x - y\n",
        "print(x)\n",
        "print(y)\n"
      ],
      "metadata": {
        "colab": {
          "base_uri": "https://localhost:8080/"
        },
        "id": "48mpTf7tpYRI",
        "outputId": "78b54fd0-f437-418c-ef46-19af2490e530"
      },
      "execution_count": null,
      "outputs": [
        {
          "output_type": "stream",
          "name": "stdout",
          "text": [
            "[1] 30.5\n",
            "[1] 20.5\n"
          ]
        }
      ]
    },
    {
      "cell_type": "code",
      "source": [
        "is_active <- TRUE\n",
        "print(is_active)\n"
      ],
      "metadata": {
        "colab": {
          "base_uri": "https://localhost:8080/"
        },
        "id": "Kx5-H2gqpbW3",
        "outputId": "4039ee80-edbf-426e-fad3-d0b4e004cc81"
      },
      "execution_count": null,
      "outputs": [
        {
          "output_type": "stream",
          "name": "stdout",
          "text": [
            "[1] TRUE\n"
          ]
        }
      ]
    },
    {
      "cell_type": "code",
      "source": [
        "numbers <- 1:5\n",
        "print(numbers)\n"
      ],
      "metadata": {
        "colab": {
          "base_uri": "https://localhost:8080/"
        },
        "id": "A1XH4bplpdXU",
        "outputId": "a1fe12ed-c026-4530-81db-06ddc95c4ee2"
      },
      "execution_count": null,
      "outputs": [
        {
          "output_type": "stream",
          "name": "stdout",
          "text": [
            "[1] 1 2 3 4 5\n"
          ]
        }
      ]
    },
    {
      "cell_type": "markdown",
      "source": [
        "# **SECTION B**"
      ],
      "metadata": {
        "id": "p5wK5giPpif_"
      }
    },
    {
      "cell_type": "markdown",
      "source": [
        "SECTION B Arithmetic Operations\n",
        "\n",
        "\n",
        "1.    Calculate the sum of 123 and 456, and store the result in a variable named total_sum. Display the variable.\n",
        "\n",
        "2.    Subtract 50 from 200 and divide the result by 5. Store the result in a variable named result. Display the variable.\n",
        "\n",
        "3.    Raise 5 to the power of 3 and store the result in a variable named power_result. Display the variable.\n",
        "\n",
        "4.    Calculate the remainder of 17 divided by 5 and store it in a variable named remainder. Display the variable.\n",
        "\n",
        "5.    Find the square root of 81 and store the result in a variable named square_root. Display the variable."
      ],
      "metadata": {
        "id": "Tow8AdIcZEuk"
      }
    },
    {
      "cell_type": "code",
      "source": [
        "total_sum = 123 + 456\n",
        "print(total_sum)\n"
      ],
      "metadata": {
        "colab": {
          "base_uri": "https://localhost:8080/"
        },
        "id": "0GyuRfNApe7i",
        "outputId": "63df58b5-6ad2-4691-d5c7-3cb7f2ac0fd4"
      },
      "execution_count": null,
      "outputs": [
        {
          "output_type": "stream",
          "name": "stdout",
          "text": [
            "[1] 579\n"
          ]
        }
      ]
    },
    {
      "cell_type": "code",
      "source": [
        "result = (200 - 50) / 5\n",
        "print(result)\n"
      ],
      "metadata": {
        "colab": {
          "base_uri": "https://localhost:8080/"
        },
        "id": "JOePifkJpzR0",
        "outputId": "63c129f7-7f41-443a-b1a4-af72e4873139"
      },
      "execution_count": null,
      "outputs": [
        {
          "output_type": "stream",
          "name": "stdout",
          "text": [
            "[1] 30\n"
          ]
        }
      ]
    },
    {
      "cell_type": "code",
      "source": [
        "power_result = 5 ** 3\n",
        "print(power_result)\n"
      ],
      "metadata": {
        "colab": {
          "base_uri": "https://localhost:8080/"
        },
        "id": "dlyYgboCp1Jb",
        "outputId": "68573899-c310-4e33-e584-28eec4323f55"
      },
      "execution_count": null,
      "outputs": [
        {
          "output_type": "stream",
          "name": "stdout",
          "text": [
            "[1] 125\n"
          ]
        }
      ]
    },
    {
      "cell_type": "code",
      "source": [
        "remainder = 17 %% 5\n",
        "print(remainder)\n"
      ],
      "metadata": {
        "colab": {
          "base_uri": "https://localhost:8080/"
        },
        "id": "oj9ZJeyQp2jo",
        "outputId": "e278840d-a38f-4a87-9ddb-22511e910463"
      },
      "execution_count": null,
      "outputs": [
        {
          "output_type": "stream",
          "name": "stdout",
          "text": [
            "[1] 2\n"
          ]
        }
      ]
    },
    {
      "cell_type": "code",
      "source": [
        "#** (0.5) to compute square root\n",
        "square_root = 81 ** 0.5\n",
        "print(square_root)\n"
      ],
      "metadata": {
        "colab": {
          "base_uri": "https://localhost:8080/"
        },
        "id": "MTCTu-ucp4wp",
        "outputId": "187f79f3-430e-48be-a269-23810acdb350"
      },
      "execution_count": null,
      "outputs": [
        {
          "output_type": "stream",
          "name": "stdout",
          "text": [
            "[1] 9\n"
          ]
        }
      ]
    },
    {
      "cell_type": "markdown",
      "source": [
        "# **SECTION C**"
      ],
      "metadata": {
        "id": "h1ZI-mgSqQ1L"
      }
    },
    {
      "cell_type": "markdown",
      "source": [
        "SECTION C Data frames\n",
        "\n",
        "1.    Create a data frame named students with two columns: name containing \"Alice\", \"Bob\", and \"Charlie\", and age containing 24, 19, and 22 respectively. Display the data frame.\n",
        "\n",
        "2.    Add a new column grade to the students data frame with values \"A\", \"B\", and \"C\" for each student respectively. Display the updated data frame.\n",
        "\n",
        "3.    Create a data frame products with columns product_id (1, 2, 3), product_name (\"Laptop\", \"Tablet\", \"Smartphone\"), and price (6500, 2500, 5600). Display the data frame.\n",
        "\n",
        "4.    Filter the students data frame to show only students who are 22 years old or older. Display the result.\n",
        "\n",
        "5.    Sort the students data frame by age in descending order and store the result in students_sorted. Display students_sorted.\n",
        "\n",
        "\n"
      ],
      "metadata": {
        "id": "LGkhksd1ZJpy"
      }
    },
    {
      "cell_type": "code",
      "source": [
        "students <- data.frame(name = c(\"Alice\", \"Bob\", \"Charlie\"),\n",
        "                       age = c(24, 19, 22))\n",
        "print(students)\n"
      ],
      "metadata": {
        "colab": {
          "base_uri": "https://localhost:8080/"
        },
        "id": "i6ACHRe8p6_X",
        "outputId": "4ff9578b-8e96-4ad1-da1d-c163fd1fedbb"
      },
      "execution_count": null,
      "outputs": [
        {
          "output_type": "stream",
          "name": "stdout",
          "text": [
            "     name age\n",
            "1   Alice  24\n",
            "2     Bob  19\n",
            "3 Charlie  22\n"
          ]
        }
      ]
    },
    {
      "cell_type": "code",
      "source": [
        "students$grade <- c(\"A\", \"B\", \"C\")\n",
        "print(students)\n"
      ],
      "metadata": {
        "colab": {
          "base_uri": "https://localhost:8080/"
        },
        "id": "cBBxM-RQqefh",
        "outputId": "ea1a951a-6eed-40f9-e69e-16f90f021bee"
      },
      "execution_count": null,
      "outputs": [
        {
          "output_type": "stream",
          "name": "stdout",
          "text": [
            "     name age grade\n",
            "1   Alice  24     A\n",
            "2     Bob  19     B\n",
            "3 Charlie  22     C\n"
          ]
        }
      ]
    },
    {
      "cell_type": "code",
      "source": [
        "products <- data.frame(product_id = c(1, 2, 3),\n",
        "                       product_name = c(\"Laptop\", \"Tablet\", \"Smartphone\"),\n",
        "                       price = c(1200, 600, 999))\n",
        "print(products)\n"
      ],
      "metadata": {
        "colab": {
          "base_uri": "https://localhost:8080/"
        },
        "id": "ln2luPrJqgOT",
        "outputId": "0cb28447-78f1-478f-d491-9281d3cd8b28"
      },
      "execution_count": null,
      "outputs": [
        {
          "output_type": "stream",
          "name": "stdout",
          "text": [
            "  product_id product_name price\n",
            "1          1       Laptop  1200\n",
            "2          2       Tablet   600\n",
            "3          3   Smartphone   999\n"
          ]
        }
      ]
    },
    {
      "cell_type": "code",
      "source": [
        "students_22_or_older <- subset(students, age >= 22)\n",
        "print(students_22_or_older)\n"
      ],
      "metadata": {
        "colab": {
          "base_uri": "https://localhost:8080/"
        },
        "id": "_5GX3OayqiZ7",
        "outputId": "b6830b09-1b30-4337-c7f6-e682afaeb642"
      },
      "execution_count": null,
      "outputs": [
        {
          "output_type": "stream",
          "name": "stdout",
          "text": [
            "     name age grade\n",
            "1   Alice  24     A\n",
            "3 Charlie  22     C\n"
          ]
        }
      ]
    },
    {
      "cell_type": "code",
      "source": [
        "students_sorted <- students[order(-students$age), ]\n",
        "print(students_sorted)\n"
      ],
      "metadata": {
        "colab": {
          "base_uri": "https://localhost:8080/"
        },
        "id": "JJb2f3edqkJC",
        "outputId": "8ea4d4dc-d092-47aa-c36e-ec6c49e62ac7"
      },
      "execution_count": null,
      "outputs": [
        {
          "output_type": "stream",
          "name": "stdout",
          "text": [
            "     name age grade\n",
            "1   Alice  24     A\n",
            "3 Charlie  22     C\n",
            "2     Bob  19     B\n"
          ]
        }
      ]
    },
    {
      "cell_type": "code",
      "source": [],
      "metadata": {
        "id": "_oPCvb7Wqobk"
      },
      "execution_count": null,
      "outputs": []
    }
  ]
}