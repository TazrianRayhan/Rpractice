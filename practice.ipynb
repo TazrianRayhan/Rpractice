{
  "nbformat": 4,
  "nbformat_minor": 0,
  "metadata": {
    "colab": {
      "provenance": []
    },
    "kernelspec": {
      "name": "ir",
      "display_name": "R"
    },
    "language_info": {
      "name": "R"
    }
  },
  "cells": [
    {
      "cell_type": "code",
      "execution_count": 3,
      "metadata": {
        "colab": {
          "base_uri": "https://localhost:8080/"
        },
        "id": "wGbFQ1GwsOqU",
        "outputId": "5d432664-fc94-4419-e362-5d95e63d54f0"
      },
      "outputs": [
        {
          "output_type": "stream",
          "name": "stdout",
          "text": [
            "[1] 10\n",
            "[1] \"Hello, World!\"\n"
          ]
        }
      ],
      "source": [
        "#This is a comment in R\n",
        "x <- 10\n",
        "message <- \"Hello, World!\"\n",
        "\n",
        "print(x)\n",
        "print(message)"
      ]
    },
    {
      "cell_type": "code",
      "source": [
        "# Addition\n",
        "sum <- 3 + 5\n",
        "print(sum) # Outputs: 8"
      ],
      "metadata": {
        "colab": {
          "base_uri": "https://localhost:8080/"
        },
        "id": "TRXDiR7vtD08",
        "outputId": "59d47bda-8b44-419d-8448-4ab100600d54"
      },
      "execution_count": 4,
      "outputs": [
        {
          "output_type": "stream",
          "name": "stdout",
          "text": [
            "[1] 8\n"
          ]
        }
      ]
    },
    {
      "cell_type": "code",
      "source": [
        "# Subtraction\n",
        "difference <- 10 - 4\n",
        "print(difference) # Outputs: 6"
      ],
      "metadata": {
        "colab": {
          "base_uri": "https://localhost:8080/"
        },
        "id": "Z7gd7pUOtb5E",
        "outputId": "fe703f76-8396-4530-d17f-06d083c490c2"
      },
      "execution_count": 5,
      "outputs": [
        {
          "output_type": "stream",
          "name": "stdout",
          "text": [
            "[1] 6\n"
          ]
        }
      ]
    },
    {
      "cell_type": "code",
      "source": [
        "# Multiplication\n",
        "product <- 7 * 3\n",
        "print(product) # Outputs: 21"
      ],
      "metadata": {
        "colab": {
          "base_uri": "https://localhost:8080/"
        },
        "id": "zLeQ5GbtthbM",
        "outputId": "8a567a08-fe38-457e-b96c-a4ce760296c2"
      },
      "execution_count": 6,
      "outputs": [
        {
          "output_type": "stream",
          "name": "stdout",
          "text": [
            "[1] 21\n"
          ]
        }
      ]
    },
    {
      "cell_type": "code",
      "source": [
        "# Division\n",
        "quotient <- 15 / 3\n",
        "print(quotient) # Outputs: 5"
      ],
      "metadata": {
        "colab": {
          "base_uri": "https://localhost:8080/"
        },
        "id": "kjVpKpP1tmOX",
        "outputId": "5a4671cb-0258-4d2a-869d-20b50bd0e412"
      },
      "execution_count": 7,
      "outputs": [
        {
          "output_type": "stream",
          "name": "stdout",
          "text": [
            "[1] 5\n"
          ]
        }
      ]
    },
    {
      "cell_type": "code",
      "source": [
        "# Exponentiation\n",
        "power <- 2^3\n",
        "print(power) # Outputs: 8"
      ],
      "metadata": {
        "colab": {
          "base_uri": "https://localhost:8080/"
        },
        "id": "c7MrkS1Ftl9i",
        "outputId": "0e560075-4a82-4c28-a38b-383738736a3a"
      },
      "execution_count": 8,
      "outputs": [
        {
          "output_type": "stream",
          "name": "stdout",
          "text": [
            "[1] 8\n"
          ]
        }
      ]
    },
    {
      "cell_type": "code",
      "source": [
        "# Modulus\n",
        "remainder <- 10 %% 3\n",
        "print(remainder) # Outputs: 1"
      ],
      "metadata": {
        "colab": {
          "base_uri": "https://localhost:8080/"
        },
        "id": "JneMB5mat3Lh",
        "outputId": "5690a48a-6ddc-494d-c8b8-c80af68bc319"
      },
      "execution_count": 9,
      "outputs": [
        {
          "output_type": "stream",
          "name": "stdout",
          "text": [
            "[1] 1\n"
          ]
        }
      ]
    },
    {
      "cell_type": "code",
      "source": [
        "employee_data <- data.frame(\n",
        "ID = c(1, 2, 3),\n",
        "Name = c(\"John\", \"Maria\", \"Charlie\"),\n",
        "Age = c(28, 34, 25)\n",
        ")\n",
        "\n",
        "#displaying the dataframe\n",
        "print(\"Employee Data Frame:\")\n",
        "print(employee_data)"
      ],
      "metadata": {
        "colab": {
          "base_uri": "https://localhost:8080/"
        },
        "id": "0TJi0DEpuqnB",
        "outputId": "ba32487a-e3d2-48b9-d8d0-25f750c944ae"
      },
      "execution_count": 10,
      "outputs": [
        {
          "output_type": "stream",
          "name": "stdout",
          "text": [
            "[1] \"Employee Data Frame:\"\n",
            "  ID    Name Age\n",
            "1  1    John  28\n",
            "2  2   Maria  34\n",
            "3  3 Charlie  25\n"
          ]
        }
      ]
    },
    {
      "cell_type": "code",
      "source": [
        "install.packages(\"ggplot2\")\n",
        "#In R, libraries (also known as packages) are collections of R functions, data, and compiled code that have been developed by the community\n",
        "\n",
        "#This command needs to be run each time you start a new R session and want to use the package\n",
        "library(ggplot2)"
      ],
      "metadata": {
        "colab": {
          "base_uri": "https://localhost:8080/"
        },
        "id": "ph0k2l5gu65b",
        "outputId": "dc1e9573-2d26-48bd-f73c-b69fab9b71eb"
      },
      "execution_count": 12,
      "outputs": [
        {
          "output_type": "stream",
          "name": "stderr",
          "text": [
            "Installing package into ‘/usr/local/lib/R/site-library’\n",
            "(as ‘lib’ is unspecified)\n",
            "\n"
          ]
        }
      ]
    },
    {
      "cell_type": "code",
      "source": [],
      "metadata": {
        "id": "k481aGTyvn5J"
      },
      "execution_count": null,
      "outputs": []
    }
  ]
}