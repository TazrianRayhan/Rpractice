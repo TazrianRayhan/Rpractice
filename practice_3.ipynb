{
  "nbformat": 4,
  "nbformat_minor": 0,
  "metadata": {
    "colab": {
      "provenance": []
    },
    "kernelspec": {
      "name": "ir",
      "display_name": "R"
    },
    "language_info": {
      "name": "R"
    }
  },
  "cells": [
    {
      "cell_type": "markdown",
      "source": [
        "1. Read the CSV File\n",
        "Write the R code to load the \"restaurant_business.csv\" file into a dataframe named restaurant_data.\n",
        "\n",
        "2. Handling Missing Values\n",
        "How can you check for missing values in restaurant_data? Write the R code to display the number of missing values in each column.\n",
        "\n",
        "Remove rows from restaurant_data where the name of the restaurant is missing. What R function would you use?\n",
        "\n",
        "3. Performing Imputation\n",
        "Identify other columns which contain missing values except the Restaurant name. How many missing values are there in the column/s? Write R code to replace the missing values in the column/s with the mean value of all restaurants.\n",
        "\n",
        "4. Handling Outliers\n",
        "Write R code to identify outliers in the Sales and YOY_Units columns based on the IQR method. Define outliers as values below the 1st quartile - 1.5 * IQR or above the 3rd quartile + 1.5 * IQR.\n",
        "\n",
        "Remove the outliers identified in the previous question from restaurant_data. What R code would you use?\n",
        "\n",
        "5. Export the Cleaned Data\n",
        "After cleaning the data, write the R code to export the cleaned dataset to a new CSV file named \"cleaned_restaurant_data.csv\".\n",
        "\n",
        "6. Summary Statistics (Bonus)\n",
        "Calculate and display summary statistics (mean, median, max, min) for all the numerical columns in the cleaned dataset. What R function can provide these statistics?\n",
        "\n",
        "7. Data Visualization (Bonus)\n",
        "Create a histogram of the Sales column in the cleaned dataset to visualize the distribution of sales. Which R function and package would you use for this plot?\n"
      ],
      "metadata": {
        "id": "0t2INPR8sPNr"
      }
    },
    {
      "cell_type": "markdown",
      "source": [
        "**Question 1**"
      ],
      "metadata": {
        "id": "PmY6JbCJXr6t"
      }
    },
    {
      "cell_type": "code",
      "source": [
        "restaurant_data <- read.csv(file='restaurant_business.csv')"
      ],
      "metadata": {
        "id": "rcnyl4EsPie3"
      },
      "execution_count": null,
      "outputs": []
    },
    {
      "cell_type": "code",
      "source": [
        "summary(restaurant_data)"
      ],
      "metadata": {
        "colab": {
          "base_uri": "https://localhost:8080/",
          "height": 295
        },
        "id": "aRyumJGQPt64",
        "outputId": "59388f9d-3888-4b19-f8d8-e462cb69301f"
      },
      "execution_count": null,
      "outputs": [
        {
          "output_type": "display_data",
          "data": {
            "text/plain": [
              "      Rank         Restaurant            Sales           YOY_Sales        \n",
              " Min.   :  1.00   Length:252         Min.   :   126.0   Length:252        \n",
              " 1st Qu.: 63.75   Class :character   1st Qu.:   181.0   Class :character  \n",
              " Median :126.50   Mode  :character   Median :   330.0   Mode  :character  \n",
              " Mean   :126.48                      Mean   :  1632.0                     \n",
              " 3rd Qu.:189.25                      3rd Qu.:   726.5                     \n",
              " Max.   :250.00                      Max.   :100456.0                     \n",
              "                                                                          \n",
              "     Units          YOY_Units         Segment_Category  \n",
              " Min.   :   13.0   Length:252         Length:252        \n",
              " 1st Qu.:   79.0   Class :character   Class :character  \n",
              " Median :  192.5   Mode  :character   Mode  :character  \n",
              " Mean   :  852.3                                        \n",
              " 3rd Qu.:  521.8                                        \n",
              " Max.   :23801.0                                        \n",
              " NA's   :18                                             "
            ]
          },
          "metadata": {}
        }
      ]
    },
    {
      "cell_type": "code",
      "source": [
        "head(restaurant_data)"
      ],
      "metadata": {
        "colab": {
          "base_uri": "https://localhost:8080/",
          "height": 286
        },
        "id": "nc1D9nEEQJVS",
        "outputId": "278105f6-6539-45cf-ca49-fbbf3c63e546"
      },
      "execution_count": null,
      "outputs": [
        {
          "output_type": "display_data",
          "data": {
            "text/html": [
              "<table class=\"dataframe\">\n",
              "<caption>A data.frame: 6 × 7</caption>\n",
              "<thead>\n",
              "\t<tr><th></th><th scope=col>Rank</th><th scope=col>Restaurant</th><th scope=col>Sales</th><th scope=col>YOY_Sales</th><th scope=col>Units</th><th scope=col>YOY_Units</th><th scope=col>Segment_Category</th></tr>\n",
              "\t<tr><th></th><th scope=col>&lt;int&gt;</th><th scope=col>&lt;chr&gt;</th><th scope=col>&lt;int&gt;</th><th scope=col>&lt;chr&gt;</th><th scope=col>&lt;int&gt;</th><th scope=col>&lt;chr&gt;</th><th scope=col>&lt;chr&gt;</th></tr>\n",
              "</thead>\n",
              "<tbody>\n",
              "\t<tr><th scope=row>1</th><td>1</td><td>McDonald's </td><td>40412</td><td>4.90% </td><td>13846</td><td>-0.50%</td><td><span style=white-space:pre-wrap>Quick Service &amp; Burger     </span></td></tr>\n",
              "\t<tr><th scope=row>2</th><td>2</td><td><span style=white-space:pre-wrap>Starbucks  </span></td><td>21380</td><td>8.60% </td><td>15049</td><td>3.00% </td><td>Quick Service &amp; Coffee Cafe</td></tr>\n",
              "\t<tr><th scope=row>3</th><td>3</td><td>Chick-fil-A</td><td>11320</td><td>13.00%</td><td> 2470</td><td>5.00% </td><td><span style=white-space:pre-wrap>Quick Service &amp; Chicken    </span></td></tr>\n",
              "\t<tr><th scope=row>4</th><td>4</td><td><span style=white-space:pre-wrap>Taco Bell  </span></td><td>11293</td><td>9.00% </td><td> 6766</td><td>2.70% </td><td><span style=white-space:pre-wrap>Quick Service &amp; Mexican    </span></td></tr>\n",
              "\t<tr><th scope=row>5</th><td>5</td><td>Burger King</td><td>10204</td><td>2.70% </td><td> 7346</td><td>0.20% </td><td><span style=white-space:pre-wrap>Quick Service &amp; Burger     </span></td></tr>\n",
              "\t<tr><th scope=row>6</th><td>6</td><td><span style=white-space:pre-wrap>Subway     </span></td><td>10200</td><td>-2.00%</td><td>23801</td><td>-4.00%</td><td><span style=white-space:pre-wrap>Quick Service &amp; Sandwich   </span></td></tr>\n",
              "</tbody>\n",
              "</table>\n"
            ],
            "text/markdown": "\nA data.frame: 6 × 7\n\n| <!--/--> | Rank &lt;int&gt; | Restaurant &lt;chr&gt; | Sales &lt;int&gt; | YOY_Sales &lt;chr&gt; | Units &lt;int&gt; | YOY_Units &lt;chr&gt; | Segment_Category &lt;chr&gt; |\n|---|---|---|---|---|---|---|---|\n| 1 | 1 | McDonald's  | 40412 | 4.90%  | 13846 | -0.50% | Quick Service &amp; Burger      |\n| 2 | 2 | Starbucks   | 21380 | 8.60%  | 15049 | 3.00%  | Quick Service &amp; Coffee Cafe |\n| 3 | 3 | Chick-fil-A | 11320 | 13.00% |  2470 | 5.00%  | Quick Service &amp; Chicken     |\n| 4 | 4 | Taco Bell   | 11293 | 9.00%  |  6766 | 2.70%  | Quick Service &amp; Mexican     |\n| 5 | 5 | Burger King | 10204 | 2.70%  |  7346 | 0.20%  | Quick Service &amp; Burger      |\n| 6 | 6 | Subway      | 10200 | -2.00% | 23801 | -4.00% | Quick Service &amp; Sandwich    |\n\n",
            "text/latex": "A data.frame: 6 × 7\n\\begin{tabular}{r|lllllll}\n  & Rank & Restaurant & Sales & YOY\\_Sales & Units & YOY\\_Units & Segment\\_Category\\\\\n  & <int> & <chr> & <int> & <chr> & <int> & <chr> & <chr>\\\\\n\\hline\n\t1 & 1 & McDonald's  & 40412 & 4.90\\%  & 13846 & -0.50\\% & Quick Service \\& Burger     \\\\\n\t2 & 2 & Starbucks   & 21380 & 8.60\\%  & 15049 & 3.00\\%  & Quick Service \\& Coffee Cafe\\\\\n\t3 & 3 & Chick-fil-A & 11320 & 13.00\\% &  2470 & 5.00\\%  & Quick Service \\& Chicken    \\\\\n\t4 & 4 & Taco Bell   & 11293 & 9.00\\%  &  6766 & 2.70\\%  & Quick Service \\& Mexican    \\\\\n\t5 & 5 & Burger King & 10204 & 2.70\\%  &  7346 & 0.20\\%  & Quick Service \\& Burger     \\\\\n\t6 & 6 & Subway      & 10200 & -2.00\\% & 23801 & -4.00\\% & Quick Service \\& Sandwich   \\\\\n\\end{tabular}\n",
            "text/plain": [
              "  Rank Restaurant  Sales YOY_Sales Units YOY_Units Segment_Category           \n",
              "1 1    McDonald's  40412 4.90%     13846 -0.50%    Quick Service & Burger     \n",
              "2 2    Starbucks   21380 8.60%     15049 3.00%     Quick Service & Coffee Cafe\n",
              "3 3    Chick-fil-A 11320 13.00%     2470 5.00%     Quick Service & Chicken    \n",
              "4 4    Taco Bell   11293 9.00%      6766 2.70%     Quick Service & Mexican    \n",
              "5 5    Burger King 10204 2.70%      7346 0.20%     Quick Service & Burger     \n",
              "6 6    Subway      10200 -2.00%    23801 -4.00%    Quick Service & Sandwich   "
            ]
          },
          "metadata": {}
        }
      ]
    },
    {
      "cell_type": "code",
      "source": [
        "str(restaurant_data)"
      ],
      "metadata": {
        "colab": {
          "base_uri": "https://localhost:8080/"
        },
        "id": "H-6zlzIYQc46",
        "outputId": "310ae8ed-962a-4758-f423-4a79d689eddc"
      },
      "execution_count": null,
      "outputs": [
        {
          "output_type": "stream",
          "name": "stdout",
          "text": [
            "'data.frame':\t252 obs. of  7 variables:\n",
            " $ Rank            : int  1 2 3 4 5 6 7 8 9 10 ...\n",
            " $ Restaurant      : chr  \"McDonald's\" \"Starbucks\" \"Chick-fil-A\" \"Taco Bell\" ...\n",
            " $ Sales           : int  40412 21380 11320 11293 10204 10200 9762 9228 7044 5890 ...\n",
            " $ YOY_Sales       : chr  \"4.90%\" \"8.60%\" \"13.00%\" \"9.00%\" ...\n",
            " $ Units           : int  13846 15049 2470 6766 7346 23801 5852 9630 6126 2160 ...\n",
            " $ YOY_Units       : chr  \"-0.50%\" \"3.00%\" \"5.00%\" \"2.70%\" ...\n",
            " $ Segment_Category: chr  \"Quick Service & Burger\" \"Quick Service & Coffee Cafe\" \"Quick Service & Chicken\" \"Quick Service & Mexican\" ...\n"
          ]
        }
      ]
    },
    {
      "cell_type": "markdown",
      "source": [
        "**Question 2**"
      ],
      "metadata": {
        "id": "wKidJRduXyTR"
      }
    },
    {
      "cell_type": "code",
      "source": [
        "# Check for missing values in each column\n",
        "missing_values <- sapply(restaurant_data, function(x) sum(is.na(x)))\n",
        "\n",
        "# Display the number of missing values in each column\n",
        "print(missing_values)"
      ],
      "metadata": {
        "colab": {
          "base_uri": "https://localhost:8080/"
        },
        "id": "Vojeya6gPw_8",
        "outputId": "81292e78-c751-4c8b-82a1-acfea42fa3f7"
      },
      "execution_count": null,
      "outputs": [
        {
          "output_type": "stream",
          "name": "stdout",
          "text": [
            "            Rank       Restaurant            Sales        YOY_Sales \n",
            "               0                8                0                0 \n",
            "           Units        YOY_Units Segment_Category \n",
            "              18               15                0 \n"
          ]
        }
      ]
    },
    {
      "cell_type": "code",
      "source": [
        "# Remove rows where the name of the restaurant is missing\n",
        "restaurant_data_clean <- restaurant_data[!is.na(restaurant_data$Restaurant), ]\n",
        "\n",
        "#or # Remove rows where the name of the restaurant is missing\n",
        "#restaurant_data_clean <- na.omit(restaurant_data, cols = \"Restaurant\")\n",
        "\n"
      ],
      "metadata": {
        "id": "L6VNALlKQAtL"
      },
      "execution_count": null,
      "outputs": []
    },
    {
      "cell_type": "markdown",
      "source": [
        "**Question 3**"
      ],
      "metadata": {
        "id": "liaTdD-5X4AP"
      }
    },
    {
      "cell_type": "code",
      "source": [
        "# Replace missing values in the 'Units' column with the mean of that column\n",
        "restaurant_data$Units[is.na(restaurant_data$Units)] <- mean(restaurant_data$Units, na.rm = TRUE)\n",
        "\n",
        "# Replace missing values in the 'YOY_Units' column with the mean of that column\n",
        "# First, we need to convert YOY_Units from a percentage string to a numeric value\n",
        "restaurant_data$YOY_Units <- as.numeric(sub(\"%\", \"\", restaurant_data$YOY_Units))\n",
        "\n",
        "# Now we can calculate the mean (excluding NA values) and replace NA values with this mean\n",
        "restaurant_data$YOY_Units[is.na(restaurant_data$YOY_Units)] <- mean(restaurant_data$YOY_Units, na.rm = TRUE)\n",
        "\n",
        "# If you want to convert back 'YOY_Units' to a percentage string after the operation, you can do:\n",
        "restaurant_data$YOY_Units <- paste0(restaurant_data$YOY_Units, \"%\")\n"
      ],
      "metadata": {
        "id": "KhK5NX1NV2k7"
      },
      "execution_count": null,
      "outputs": []
    },
    {
      "cell_type": "markdown",
      "source": [
        "mean function computes the average value of sale"
      ],
      "metadata": {
        "id": "6TGIbjuAKf4c"
      }
    },
    {
      "cell_type": "markdown",
      "source": [
        "**Question 4**"
      ],
      "metadata": {
        "id": "Zubyi8VhX6xy"
      }
    },
    {
      "cell_type": "code",
      "source": [
        "# Calculate the IQR for Sales\n",
        "IQR_Sales <- IQR(restaurant_data$Sales, na.rm = TRUE)\n",
        "Q1_Sales <- quantile(restaurant_data$Sales, 0.25, na.rm = TRUE)\n",
        "Q3_Sales <- quantile(restaurant_data$Sales, 0.75, na.rm = TRUE)\n",
        "lower_bound_Sales <- Q1_Sales - 1.5 * IQR_Sales\n",
        "upper_bound_Sales <- Q3_Sales + 1.5 * IQR_Sales\n",
        "\n",
        "# Calculate the IQR for YOY_Units\n",
        "# Ensure that YOY_Units is a numeric column before computing IQR\n",
        "restaurant_data$YOY_Units <- as.numeric(sub(\"%\", \"\", restaurant_data$YOY_Units))\n",
        "IQR_YOY_Units <- IQR(restaurant_data$YOY_Units, na.rm = TRUE)\n",
        "Q1_YOY_Units <- quantile(restaurant_data$YOY_Units, 0.25, na.rm = TRUE)\n",
        "Q3_YOY_Units <- quantile(restaurant_data$YOY_Units, 0.75, na.rm = TRUE)\n",
        "lower_bound_YOY_Units <- Q1_YOY_Units - 1.5 * IQR_YOY_Units\n",
        "upper_bound_YOY_Units <- Q3_YOY_Units + 1.5 * IQR_YOY_Units\n",
        "\n",
        "# Identify outliers in the Sales and YOY_Units columns\n",
        "outliers_Sales <- (restaurant_data$Sales < lower_bound_Sales) | (restaurant_data$Sales > upper_bound_Sales)\n",
        "outliers_YOY_Units <- (restaurant_data$YOY_Units < lower_bound_YOY_Units) | (restaurant_data$YOY_Units > upper_bound_YOY_Units)\n",
        "\n",
        "# Combine outliers for both columns\n",
        "outliers <- outliers_Sales | outliers_YOY_Units\n",
        "\n",
        "# Remove rows that contain outliers in either Sales or YOY_Units columns\n",
        "restaurant_data_clean <- restaurant_data[!outliers, ]\n"
      ],
      "metadata": {
        "id": "0zSZtLWwW0_y"
      },
      "execution_count": null,
      "outputs": []
    },
    {
      "cell_type": "markdown",
      "source": [
        "**Question 5**"
      ],
      "metadata": {
        "id": "Cc-Z1qkLX_sD"
      }
    },
    {
      "cell_type": "code",
      "source": [
        "# Write the cleaned dataframe to a new CSV file\n",
        "write.csv(restaurant_data_clean, \"cleaned_restaurant_data.csv\", row.names = FALSE)\n"
      ],
      "metadata": {
        "id": "0KG8pR_hXjvh"
      },
      "execution_count": null,
      "outputs": []
    },
    {
      "cell_type": "markdown",
      "source": [
        "**Question 6**"
      ],
      "metadata": {
        "id": "3u3C5A6uYQ4q"
      }
    },
    {
      "cell_type": "code",
      "source": [
        "# Calculate and display summary statistics for the cleaned dataset\n",
        "summary_stats <- sapply(restaurant_data_clean, function(x) {\n",
        "  if (is.numeric(x)) {\n",
        "    c(Mean = mean(x, na.rm = TRUE),\n",
        "      Median = median(x, na.rm = TRUE),\n",
        "      Max = max(x, na.rm = TRUE),\n",
        "      Min = min(x, na.rm = TRUE))\n",
        "  }\n",
        "})\n",
        "\n",
        "# Display the summary statistics\n",
        "print(summary_stats)\n"
      ],
      "metadata": {
        "colab": {
          "base_uri": "https://localhost:8080/"
        },
        "id": "U-I4zWOnYOzv",
        "outputId": "e5ceb86b-917d-4317-f7f2-058b77f9e774"
      },
      "execution_count": null,
      "outputs": [
        {
          "output_type": "stream",
          "name": "stdout",
          "text": [
            "$Rank\n",
            "   Mean  Median     Max     Min \n",
            "144.711 146.000 249.000  43.000 \n",
            "\n",
            "$Restaurant\n",
            "NULL\n",
            "\n",
            "$Sales\n",
            "     Mean    Median       Max       Min \n",
            " 369.4971  266.0000 1423.0000  126.0000 \n",
            "\n",
            "$YOY_Sales\n",
            "NULL\n",
            "\n",
            "$Units\n",
            "     Mean    Median       Max       Min \n",
            " 310.7219  187.0000 2524.0000   13.0000 \n",
            "\n",
            "$YOY_Units\n",
            "      Mean     Median        Max        Min \n",
            " 0.4335333  0.0000000 10.5000000 -9.0000000 \n",
            "\n",
            "$Segment_Category\n",
            "NULL\n",
            "\n"
          ]
        }
      ]
    },
    {
      "cell_type": "markdown",
      "source": [
        "**Question 7**"
      ],
      "metadata": {
        "id": "diPfF4H_YbhI"
      }
    },
    {
      "cell_type": "code",
      "source": [
        "# Load the ggplot2 package\n",
        "library(ggplot2)\n",
        "\n",
        "# Create a histogram of the Sales column\n",
        "ggplot(restaurant_data_clean, aes(x = Sales)) +\n",
        "  geom_histogram(binwidth = 10, fill = \"blue\", color = \"black\") +\n",
        "  theme_minimal() +\n",
        "  labs(title = \"Histogram of Sales\",\n",
        "       x = \"Sales\",\n",
        "       y = \"Frequency\")\n"
      ],
      "metadata": {
        "colab": {
          "base_uri": "https://localhost:8080/",
          "height": 437
        },
        "id": "xreev5wEYPl1",
        "outputId": "36c8a1c4-b43e-4107-f9b8-2fcbbf6c14dc"
      },
      "execution_count": null,
      "outputs": [
        {
          "output_type": "display_data",
          "data": {
            "text/plain": [
              "plot without title"
            ],
            "image/png": "[encoded data removed]"
          },
          "metadata": {
            "image/png": {
              "width": 420,
              "height": 420
            }
          }
        }
      ]
    },
    {
      "cell_type": "code",
      "source": [],
      "metadata": {
        "id": "C5PSsGJTYeT2"
      },
      "execution_count": null,
      "outputs": []
    }
  ]
}